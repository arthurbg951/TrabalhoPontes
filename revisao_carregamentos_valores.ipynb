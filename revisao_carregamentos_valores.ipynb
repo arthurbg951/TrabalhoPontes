{
 "cells": [
  {
   "cell_type": "code",
   "execution_count": 1,
   "metadata": {},
   "outputs": [
    {
     "name": "stdout",
     "output_type": "stream",
     "text": [
      "### ABNT NBR 7188 ###\n",
      "P: 75 kN\n",
      "p: 5 kN\n",
      "Carga no passeio: 3 kN\n",
      "#####################\n"
     ]
    }
   ],
   "source": [
    "from ABNT_NBR_7188 import p, P, CIA, CIV, CNF"
   ]
  },
  {
   "cell_type": "code",
   "execution_count": 2,
   "metadata": {},
   "outputs": [],
   "source": [
    "# Pesos específicos Materiais\n",
    "peso_especifico_concreto = 25  # kN/m³\n",
    "peso_especifico_pavimento = 24  # kN/m³\n",
    "\n",
    "# AREAS DO PROJETO CAD\n",
    "# Longarina\n",
    "area_secao_t = 1.833  # m²\n",
    "area_misula_longarina = 2.05 * 0.4  # altura x base\n",
    "\n",
    "# Guarda_roda\n",
    "area_guarda_roda = 0.218  # m²\n",
    "\n",
    "# Transversinas\n",
    "area_tranversina_pilar = 1.63 * 0.3  # altura x base\n",
    "area_tranversina_vao = 1.58 * 0.25  # altura x base\n",
    "comprimento_metade_transversina_pilar = (5.6 - 0.8) / 2  # m\n",
    "comprimento_metade_transversina_vao = (3 + 1.3 * 2) / 2  # m\n",
    "\n",
    "# Metade do tabuleiro\n",
    "area_metade_tabuleiro = 0.396  # m²\n",
    "\n",
    "# Metade do pavimento\n",
    "area_metade_pavimento = 0.329  # m²\n",
    "\n",
    "# Cortina\n",
    "area_cortina_na_secao_longitudinal = 0.713  # m²\n",
    "comprimento_metade_cortina = 5.10  # m\n",
    "# OBS: remover do carregamento o volume da longarina que adetra na cortina\n",
    "\n",
    "# CARREGAMENTOS FTOOL\n",
    "# Distribuído\n",
    "q_recapeamento = 2 * 9.40 / 2  # kN/m\n",
    "q_pavimento = area_metade_pavimento * peso_especifico_pavimento\n",
    "q_longarina = area_secao_t * peso_especifico_concreto\n",
    "q_tabuleiro = area_metade_tabuleiro * peso_especifico_concreto\n",
    "q_guarda_roda = area_guarda_roda * peso_especifico_concreto\n",
    "q_acrescimo_triangulo = area_misula_longarina * peso_especifico_concreto\n",
    "\n",
    "q_distribuido_continuo = q_recapeamento + q_pavimento + q_longarina + q_tabuleiro + q_guarda_roda\n",
    "q_max_triangulo = q_distribuido_continuo + q_acrescimo_triangulo\n",
    "\n",
    "# Concentrado\n",
    "q_transversina_pilar = area_tranversina_pilar * comprimento_metade_transversina_pilar * peso_especifico_concreto\n",
    "q_transversina_vao = area_tranversina_vao * comprimento_metade_transversina_vao * peso_especifico_concreto\n",
    "volume_total_cortina = area_cortina_na_secao_longitudinal * comprimento_metade_cortina\n",
    "volume_viga_t_na_cortina = 0.25 * area_secao_t\n",
    "volume_tabuleiro_na_cortina = 0.25 * area_metade_tabuleiro\n",
    "q_cortina = (volume_total_cortina - volume_viga_t_na_cortina - volume_tabuleiro_na_cortina) * peso_especifico_concreto\n",
    "q_cortina += 0.391 * 3.6 * peso_especifico_concreto + 2.891 * 0.4 * peso_especifico_concreto  # Ala\n",
    "q_cortina += 4.64 * 3.6 * 0.3 * peso_especifico_concreto  # Placa de transição\n",
    "q_cortina += (9.4 * 3.6 * 2) / 2  # Recapeamento na placa de transição\n",
    "q_cortina += 0.01 * 5.1 * peso_especifico_concreto + (1.5 + 1.3 + 1.5 + 0.4) * 0.042 * peso_especifico_concreto  # Acrescimos no fim da ponte\n",
    "\n",
    "# Trem tipo\n",
    "# Método 1\n",
    "Pontual = 2 * P  # kN\n",
    "q_externo = p * (2.1 - 0.4 + 6) / 2\n",
    "q_interno = p * (2.1 - 0.4 + 6 - 3) / 2\n",
    "# Método 2 (segundo o livro - linha de fluência)\n",
    "Q = P\n",
    "y2 = 5.2/6\n",
    "b=4.7/6\n",
    "y1 = 7.2/6\n",
    "a=y1*7.7/7.2\n",
    "A1 = (y1+y2)*2.5/2\n",
    "A2=b*4.7/2\n",
    "q = p\n",
    "\n",
    "Q1 = Q*(y1+y2)\n",
    "q1 = q*(A1+A2)\n",
    "q2 = q*A2\n",
    "\n",
    "fator_de_impacto = CNF(2) * CIA('concreto') * CIV(20)\n"
   ]
  },
  {
   "cell_type": "code",
   "execution_count": 3,
   "metadata": {},
   "outputs": [
    {
     "name": "stdout",
     "output_type": "stream",
     "text": [
      "CARGAS DISTRIBUÍDAS:\n",
      "    Carga continua: 78.471\n",
      "    Carga máxima triangular: 98.971\n",
      "CARGAS CONCENTRADAS:\n",
      "    Transversina no pilar: 29.340\n",
      "    Transversina no vao: 27.650\n",
      "    Cortina: 306.406\n",
      "TREM TIPO:\n",
      "    -> Método 1:\n",
      "    Carga concentrada: 150\n",
      "    Externo: 19.250\n",
      "    Interno: 11.750\n",
      "    -> Método 2:\n",
      "    Carga concentrada: 154.99999999999997\n",
      "    Externo: 22.121\n",
      "    Interno: 9.204\n",
      "FATOR DE IMPACTO=1.629\n"
     ]
    }
   ],
   "source": [
    "print(f'CARGAS DISTRIBUÍDAS:')\n",
    "print(f'    Carga continua: {q_distribuido_continuo:.3f}')\n",
    "print(f'    Carga máxima triangular: {q_max_triangulo:.3f}')\n",
    "\n",
    "print(f'CARGAS CONCENTRADAS:')\n",
    "print(f'    Transversina no pilar: {q_transversina_pilar:.3f}')\n",
    "print(f'    Transversina no vao: {q_transversina_vao:.3f}')\n",
    "print(f'    Cortina: {q_cortina:.3f}')\n",
    "\n",
    "print(f'TREM TIPO:')\n",
    "print(f'    -> Método 1:')\n",
    "print(f'    Carga concentrada: {Pontual}')\n",
    "print(f'    Externo: {q_externo:.3f}')\n",
    "print(f'    Interno: {q_interno:.3f}')\n",
    "print(f'    -> Método 2:')\n",
    "print(f'    Carga concentrada: {Q1}')\n",
    "print(f'    Externo: {q1:.3f}')\n",
    "print(f'    Interno: {q2:.3f}')\n",
    "\n",
    "print(f'FATOR DE IMPACTO={fator_de_impacto:.3f}')"
   ]
  }
 ],
 "metadata": {
  "kernelspec": {
   "display_name": "python39",
   "language": "python",
   "name": "python3"
  },
  "language_info": {
   "codemirror_mode": {
    "name": "ipython",
    "version": 3
   },
   "file_extension": ".py",
   "mimetype": "text/x-python",
   "name": "python",
   "nbconvert_exporter": "python",
   "pygments_lexer": "ipython3",
   "version": "3.9.18"
  },
  "orig_nbformat": 4
 },
 "nbformat": 4,
 "nbformat_minor": 2
}
