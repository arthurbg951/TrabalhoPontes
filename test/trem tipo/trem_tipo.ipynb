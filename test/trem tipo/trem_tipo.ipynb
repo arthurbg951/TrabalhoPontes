{
 "cells": [
  {
   "cell_type": "code",
   "execution_count": 9,
   "metadata": {},
   "outputs": [],
   "source": [
    "def teste_hipotese(\n",
    "        n,\n",
    "        E,\n",
    "        coordenada_x_do_comeco_trem_tipo,\n",
    "        comprimento_sem_trem_tipo\n",
    "):\n",
    "    equacoes = []\n",
    "\n",
    "    for i in range(1, n + 1):\n",
    "        aux = (6 / n) * ((2 * i - n - 1) / ((n**2 - 1) * E))\n",
    "        a = aux\n",
    "        b = -aux * 7.05 + 1 / n\n",
    "        equacoes.append((a, b))\n",
    "\n",
    "    print(f'Equações de Engesser-Courbon:')\n",
    "    for i, equacao in enumerate(equacoes):\n",
    "        a, b = equacao\n",
    "        print(f'n{i+1}(x)={a:.3f}x + {b:.3f}')\n",
    "\n",
    "    # print(f'Pontos de análise:')\n",
    "    pontos = [ponto + coordenada_x_do_comeco_trem_tipo for ponto in [0, 0.5, 2.5, 3]]\n",
    "    pontos_de_analise = []\n",
    "    for i, equacao in enumerate(equacoes):\n",
    "        analise = []\n",
    "        for ponto in pontos:\n",
    "            a, b = equacao\n",
    "            ni = a * ponto + b\n",
    "            analise.append(ni)\n",
    "            # print(f'n{i+1}({ponto})={ni:.3f}')\n",
    "        pontos_de_analise.append(analise)\n",
    "        # print()\n",
    "    \n",
    "    print(f'Trem tipo:')\n",
    "    for i, (a, y1, y2, b) in enumerate(pontos_de_analise):\n",
    "        a = abs(a)\n",
    "        y1 = abs(y1)\n",
    "        y2 = abs(y2)\n",
    "        b = abs(b)\n",
    "        A1 = (a + b) * 3 / 2\n",
    "        A2 = b * comprimento_sem_trem_tipo / 2\n",
    "        Q1 = 75 * (y1 + y2)\n",
    "        q1 = 5 * (A1 + A2)\n",
    "        q2 = 5 * A2\n",
    "        print(f'Viga {i+1}: Q1={Q1:.2f} q1={q1:.2f} q2={q2:.2f} A1={A1} A2={A2}')"
   ]
  },
  {
   "cell_type": "markdown",
   "metadata": {},
   "source": [
    "# Teste 1\n",
    "![Projeto CAD](hipotese1.png)\n"
   ]
  },
  {
   "cell_type": "code",
   "execution_count": 10,
   "metadata": {},
   "outputs": [
    {
     "name": "stdout",
     "output_type": "stream",
     "text": [
      "Equações de Engesser-Courbon:\n",
      "n1(x)=-0.059x + 0.581\n",
      "n2(x)=-0.035x + 0.415\n",
      "n3(x)=-0.012x + 0.250\n",
      "n4(x)=0.012x + 0.084\n",
      "n5(x)=0.035x + -0.082\n",
      "n6(x)=0.059x + -0.248\n",
      "Trem tipo:\n",
      "Viga 1: Q1=51.90 q1=7.38 q2=2.19 A1=1.0379188712522043 A2=0.4382422104644325\n",
      "Viga 2: Q1=41.14 q1=6.00 q2=1.88 A1=0.8227513227513228 A2=0.37627865961199297\n",
      "Viga 3: Q1=30.38 q1=4.61 q2=1.57 A1=0.6075837742504409 A2=0.3143151087595532\n",
      "Viga 4: Q1=19.62 q1=3.22 q2=1.26 A1=0.39241622574955903 A2=0.25235155790711344\n",
      "Viga 5: Q1=8.86 q1=1.84 q2=0.95 A1=0.17724867724867724 A2=0.1903880070546737\n",
      "Viga 6: Q1=8.82 q1=1.96 q2=0.64 A1=0.26455026455026454 A2=0.12842445620223403\n"
     ]
    }
   ],
   "source": [
    "n = 6  # número de longarinas\n",
    "E = 2.43  # distância entre eixos\n",
    "coordenada_x_do_comeco_trem_tipo = 2.5\n",
    "comprimento_sem_trem_tipo = 3.4\n",
    "teste_hipotese(n, E, coordenada_x_do_comeco_trem_tipo, comprimento_sem_trem_tipo)"
   ]
  },
  {
   "cell_type": "markdown",
   "metadata": {},
   "source": [
    "# Teste 2\n",
    "![Projeto CAD](hipotese2.png)"
   ]
  },
  {
   "cell_type": "code",
   "execution_count": 11,
   "metadata": {},
   "outputs": [
    {
     "name": "stdout",
     "output_type": "stream",
     "text": [
      "Equações de Engesser-Courbon:\n",
      "n1(x)=-0.059x + 0.581\n",
      "n2(x)=-0.035x + 0.415\n",
      "n3(x)=-0.012x + 0.250\n",
      "n4(x)=0.012x + 0.084\n",
      "n5(x)=0.035x + -0.082\n",
      "n6(x)=0.059x + -0.248\n",
      "Trem tipo:\n",
      "Viga 1: Q1=70.41 q1=21.91 q2=14.87 A1=1.4082892416225745 A2=2.973721340388006\n",
      "Viga 2: Q1=52.25 q1=16.75 q2=11.52 A1=1.044973544973545 A2=2.304232804232804\n",
      "Viga 3: Q1=34.08 q1=11.58 q2=8.17 A1=0.681657848324515 A2=1.6347442680776012\n",
      "Viga 4: Q1=15.92 q1=6.42 q2=4.83 A1=0.31834215167548496 A2=0.9652557319223983\n",
      "Viga 5: Q1=5.29 q1=2.27 q2=1.48 A1=0.15873015873015872 A2=0.29576719576719573\n",
      "Viga 6: Q1=20.41 q1=3.91 q2=1.87 A1=0.40828924162257474 A2=0.3737213403880067\n"
     ]
    }
   ],
   "source": [
    "n = 6  # número de longarinas\n",
    "E = 2.43  # distância entre eixos\n",
    "equacoes = []\n",
    "coordenada_x_do_comeco_trem_tipo = 0.4\n",
    "comprimento_sem_trem_tipo = 16.4 - 0.8\n",
    "teste_hipotese(n, E, coordenada_x_do_comeco_trem_tipo, comprimento_sem_trem_tipo)"
   ]
  },
  {
   "cell_type": "markdown",
   "metadata": {},
   "source": [
    "# Teste 3\n",
    "![Projeto CAD](hipotese3.png)"
   ]
  },
  {
   "cell_type": "code",
   "execution_count": 12,
   "metadata": {},
   "outputs": [
    {
     "name": "stdout",
     "output_type": "stream",
     "text": [
      "Equações de Engesser-Courbon:\n",
      "n1(x)=-0.059x + 0.581\n",
      "n2(x)=-0.035x + 0.415\n",
      "n3(x)=-0.012x + 0.250\n",
      "n4(x)=0.012x + 0.084\n",
      "n5(x)=0.035x + -0.082\n",
      "n6(x)=0.059x + -0.248\n",
      "Trem tipo:\n",
      "Viga 1: Q1=59.70 q1=12.44 q2=6.47 A1=1.1940035273368603 A2=1.293489124044679\n",
      "Viga 2: Q1=45.82 q1=9.85 q2=5.27 A1=0.9164021164021163 A2=1.054426807760141\n",
      "Viga 3: Q1=31.94 q1=7.27 q2=4.08 A1=0.6388007054673721 A2=0.8153644914756025\n",
      "Viga 4: Q1=18.06 q1=4.69 q2=2.88 A1=0.36119929453262783 A2=0.576302175191064\n",
      "Viga 5: Q1=5.29 q1=2.48 q2=1.69 A1=0.15873015873015875 A2=0.33723985890652564\n",
      "Viga 6: Q1=9.70 q1=1.81 q2=0.49 A1=0.2645502645502646 A2=0.09817754262198733\n"
     ]
    }
   ],
   "source": [
    "n = 6  # número de longarinas\n",
    "E = 2.43  # distância entre eixos\n",
    "coordenada_x_do_comeco_trem_tipo = 1.615\n",
    "comprimento_sem_trem_tipo = 8.35\n",
    "teste_hipotese(n, E, coordenada_x_do_comeco_trem_tipo, comprimento_sem_trem_tipo)"
   ]
  }
 ],
 "metadata": {
  "kernelspec": {
   "display_name": "python39",
   "language": "python",
   "name": "python3"
  },
  "language_info": {
   "codemirror_mode": {
    "name": "ipython",
    "version": 3
   },
   "file_extension": ".py",
   "mimetype": "text/x-python",
   "name": "python",
   "nbconvert_exporter": "python",
   "pygments_lexer": "ipython3",
   "version": "3.9.18"
  }
 },
 "nbformat": 4,
 "nbformat_minor": 2
}
