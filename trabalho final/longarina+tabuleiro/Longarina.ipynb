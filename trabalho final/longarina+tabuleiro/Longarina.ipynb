{
 "cells": [
  {
   "cell_type": "markdown",
   "metadata": {},
   "source": [
    "# Dimensionamento da Longarina\n",
    "\n",
    "## Equipe\n",
    "Arthur Brito Gomes\n",
    "\n",
    "Francisco Gustavo\n",
    "\n",
    "Gustavo Gomes\n",
    "\n",
    "José Enrico"
   ]
  },
  {
   "cell_type": "markdown",
   "metadata": {},
   "source": [
    "# Imports\n"
   ]
  },
  {
   "cell_type": "code",
   "execution_count": 96,
   "metadata": {},
   "outputs": [],
   "source": [
    "import math\n",
    "from funcoes import (\n",
    "    to_red as re,\n",
    "    to_yellow as ye,\n",
    "    arredonda_pra_cima,\n",
    "    arredonda_pra_baixo,\n",
    "    show_section,\n",
    "    integrate_linear_function\n",
    ")\n",
    "from ABNT_NBR_7188 import P, p, CNF, CIA, CIV"
   ]
  },
  {
   "cell_type": "markdown",
   "metadata": {},
   "source": [
    "# Dados"
   ]
  },
  {
   "cell_type": "markdown",
   "metadata": {},
   "source": [
    "![Seção Girder](secao.png)"
   ]
  },
  {
   "cell_type": "code",
   "execution_count": 97,
   "metadata": {},
   "outputs": [],
   "source": [
    "# Dimensões da viga (Seção T) OBS: Verificar secao.png\n",
    "b1 = 2.43\n",
    "b2 = 0.8\n",
    "tw = 0.4\n",
    "\n",
    "d1 = 0.2\n",
    "d2 = 0\n",
    "d3 = 0.4\n",
    "d4 = 0\n",
    "d5 = 0.2\n",
    "\n",
    "d_linha = 0.04\n",
    "\n",
    "d = 0.7375 # Valor modificado para deixar com menor valor de diferença entre d'-d_real/h\n",
    "# d = (d1 + d2 + d3 + d4 + d5) - d_linha\n",
    "\n",
    "\n",
    "# Concreto\n",
    "bitola_agregado = (3 / 4) * 2.54e-2\n",
    "fck = 30e6\n",
    "fcd = fck / 1.4\n",
    "\n",
    "# Aço\n",
    "num_ramos = 2\n",
    "fy = 500e6\n",
    "fyd = fy / 1.15\n"
   ]
  },
  {
   "cell_type": "markdown",
   "metadata": {},
   "source": [
    "![Seção Adotada](seção_adotada.png)"
   ]
  },
  {
   "cell_type": "markdown",
   "metadata": {},
   "source": [
    "# Trem Tipo"
   ]
  },
  {
   "cell_type": "markdown",
   "metadata": {},
   "source": [
    "Utilizou-se as Equações de Engesser-Courbon para o cálculo do trem tipo considerando a Hipotese 1 evidenciada a seguir:\n",
    "\n",
    "![Hipotese 1](hipotese1.png)"
   ]
  },
  {
   "cell_type": "code",
   "execution_count": 98,
   "metadata": {},
   "outputs": [
    {
     "name": "stdout",
     "output_type": "stream",
     "text": [
      "Equações de Engesser-Courbon:\n",
      "n1(x)=-0.059x + 0.581\n",
      "n2(x)=-0.035x + 0.415\n",
      "n3(x)=-0.012x + 0.250\n",
      "n4(x)=0.012x + 0.084\n",
      "n5(x)=0.035x + -0.082\n",
      "n6(x)=0.059x + -0.248\n",
      "Trem tipo:\n",
      "Viga 1: Q1=51.90 q1=7.87 q2=2.68\n",
      "Viga 2: Q1=41.14 q1=6.86 q2=2.74\n",
      "Viga 3: Q1=30.38 q1=5.84 q2=2.80\n",
      "Viga 4: Q1=19.62 q1=4.83 q2=2.86\n",
      "Viga 5: Q1=8.86 q1=3.81 q2=2.92\n",
      "Viga 6: Q1=8.82 q1=3.64 q2=2.98\n"
     ]
    }
   ],
   "source": [
    "n = 6  # número de longarinas\n",
    "E = 2.43  # distância entre eixos\n",
    "equacoes = []\n",
    "\n",
    "for i in range(1, n + 1):\n",
    "    aux = (6 / n) * ((2 * i - n - 1) / ((n**2 - 1) * E))\n",
    "    a = aux\n",
    "    b = -aux * 7.05 + 1 / n\n",
    "    equacoes.append((a, b))\n",
    "\n",
    "print(f'Equações de Engesser-Courbon:')\n",
    "for i, equacao in enumerate(equacoes):\n",
    "    a, b = equacao\n",
    "    print(f'n{i+1}(x)={a:.3f}x + {b:.3f}')\n",
    "\n",
    "# print(f'Pontos de análise:')\n",
    "coordenada_x_do_comeco_trem_tipo = 2.5\n",
    "pontos = [ponto + coordenada_x_do_comeco_trem_tipo for ponto in [0, 0.5, 2.5, 3]]\n",
    "pontos_de_analise = []\n",
    "for i, equacao in enumerate(equacoes):\n",
    "    analise = []\n",
    "    for ponto in pontos:\n",
    "        a, b = equacao\n",
    "        ni = a * ponto + b\n",
    "        analise.append(ni)\n",
    "        # print(f'n{i+1}({ponto})={ni:.3f}')\n",
    "    pontos_de_analise.append(analise)\n",
    "    # print()\n",
    "\n",
    "comprimento_sem_trem_tipo = 3.4\n",
    "print(f'Trem tipo:')\n",
    "for i, (a, y1, y2, b) in enumerate(pontos_de_analise):\n",
    "    a = abs(a)\n",
    "    y1 = abs(y1)\n",
    "    y2 = abs(y2)\n",
    "    b = abs(b)\n",
    "    A1 = integrate_linear_function(equacoes[i][0], equacoes[i][1], pontos[0], pontos[len(pontos) - 1], desired_error=0.0001)\n",
    "    A2 = integrate_linear_function(equacoes[i][0], equacoes[i][1], pontos[len(pontos) - 1], pontos[len(pontos) - 1] + comprimento_sem_trem_tipo, desired_error=0.0001)\n",
    "    Q1 = 75 * (y1 + y2)\n",
    "    q1 = 5 * (A1 + A2)\n",
    "    q2 = 5 * A2\n",
    "    print(f'Viga {i+1}: Q1={Q1:.2f} q1={q1:.2f} q2={q2:.2f}')\n"
   ]
  },
  {
   "cell_type": "markdown",
   "metadata": {},
   "source": [
    "![Equações:](equações_engesser-courbon.png)"
   ]
  },
  {
   "cell_type": "markdown",
   "metadata": {},
   "source": [
    "# Peso Próprio"
   ]
  },
  {
   "cell_type": "code",
   "execution_count": 99,
   "metadata": {},
   "outputs": [],
   "source": [
    "'''\n",
    "  Entrada de dados:\n",
    "'''\n",
    "\n",
    "# Trem tipo intermediário\n",
    "distancia_1o_vao = b1\n",
    "distancia_2o_vao = b1\n",
    "# Trem tipo canto\n",
    "distancia_entre_longarinas = b1\n",
    "\n",
    "\n",
    "# Pesos específicos Materiais\n",
    "peso_especifico_concreto = 25  # kN/m³\n",
    "peso_especifico_pavimento = 24  # kN/m³\n",
    "\n",
    "# AREAS DO PROJETO CAD\n",
    "# Longarina\n",
    "area_secao_longarina = (\n",
    "    b1 * d1 +\n",
    "    (tw + b1) * d2 / 2 +\n",
    "    tw * d3 + (tw + b2) * d4 / 2 +\n",
    "    d5 * b2\n",
    ")\n",
    "\n",
    "# Guarda_roda\n",
    "area_guarda_roda = 0.218  # m²\n",
    "\n",
    "# Guarda_corpo\n",
    "q_guarda_corpo = 0.157  # kN/m\n",
    "\n",
    "# Transversinas\n",
    "area_septo_pilar = 0.7 * 0.35  # altura x base\n",
    "comprimento_septo_pilar = b1  # m\n",
    "\n",
    "# Recapeamento\n",
    "q_recapeamento = 2  # kN/m²\n",
    "\n",
    "# Comprimentos adotados\n",
    "espessura_de_asfalto = 0.04  # m\n",
    "altura_passeio = 0.04  # m\n",
    "\n",
    "# CARREGAMENTOS FTOOL\n",
    "# Distribuído\n",
    "ppV1 = area_secao_longarina * peso_especifico_concreto\n",
    "ppV1 += q_guarda_corpo\n",
    "ppV1 += 2 * 0.04 * peso_especifico_pavimento\n",
    "ppV1 += 2 * q_recapeamento\n",
    "ppV1 += area_guarda_roda * peso_especifico_concreto\n",
    "\n",
    "ppV2 = area_secao_longarina * peso_especifico_concreto\n",
    "ppV2 += 2.36 * 0.04 * peso_especifico_pavimento\n",
    "ppV2 += 2.36 * q_recapeamento\n",
    "\n",
    "ppV3 = area_secao_longarina * peso_especifico_concreto\n",
    "ppV3 += b1 * 0.04 * peso_especifico_pavimento\n",
    "ppV3 += b1 * q_recapeamento\n",
    "\n",
    "ppV4 = area_secao_longarina * peso_especifico_concreto\n",
    "ppV4 += area_guarda_roda * peso_especifico_concreto\n",
    "ppV4 += (b1 - 0.4) * 0.04 * peso_especifico_pavimento\n",
    "ppV4 += (b1 - 0.4) * q_recapeamento\n",
    "\n",
    "ppV5 = area_secao_longarina * peso_especifico_concreto\n",
    "ppV5 += q_guarda_corpo\n",
    "ppV5 += (b1 - 0.1) * 0.04 * peso_especifico_pavimento\n",
    "ppV5 += (b1 - 0.1) * q_recapeamento\n",
    "\n",
    "ppV6 = area_secao_longarina * peso_especifico_concreto\n",
    "ppV6 += q_guarda_corpo\n",
    "ppV6 += (b1 - 0.1) * 0.04 * peso_especifico_pavimento\n",
    "ppV6 += (b1 - 0.1) * q_recapeamento\n",
    "\n",
    "# Concentrado\n",
    "concentrada = area_septo_pilar * comprimento_septo_pilar * peso_especifico_concreto\n",
    "\n",
    "# Fator de impacto\n",
    "fator_de_impacto = CNF(2) * CIA('concreto') * CIV(20)\n"
   ]
  },
  {
   "cell_type": "code",
   "execution_count": 100,
   "metadata": {},
   "outputs": [
    {
     "name": "stdout",
     "output_type": "stream",
     "text": [
      "CARGAS DISTRIBUÍDAS:\n",
      "    V1: 31.68\n",
      "    V2: 27.14\n",
      "    V3: 27.34\n",
      "    V4: 31.61\n",
      "    V5: 27.20\n",
      "    V6: 27.20\n",
      "CARGAS CONCENTRADAS:\n",
      "    Transversina no pilar: 14.88\n",
      "FATOR DE IMPACTO=1.63\n"
     ]
    }
   ],
   "source": [
    "print(f'CARGAS DISTRIBUÍDAS:')\n",
    "print(f'    V1: {ppV1:.2f}')\n",
    "print(f'    V2: {ppV2:.2f}')\n",
    "print(f'    V3: {ppV3:.2f}')\n",
    "print(f'    V4: {ppV4:.2f}')\n",
    "print(f'    V5: {ppV5:.2f}')\n",
    "print(f'    V6: {ppV6:.2f}')\n",
    "\n",
    "print(f'CARGAS CONCENTRADAS:')\n",
    "print(f'    Transversina no pilar: {concentrada:.2f}')\n",
    "\n",
    "print(f'FATOR DE IMPACTO={fator_de_impacto:.2f}')"
   ]
  },
  {
   "cell_type": "markdown",
   "metadata": {},
   "source": [
    "# Dimensionamento Longarina"
   ]
  },
  {
   "cell_type": "markdown",
   "metadata": {},
   "source": [
    "## Funções"
   ]
  },
  {
   "cell_type": "code",
   "execution_count": 101,
   "metadata": {},
   "outputs": [],
   "source": [
    "def calcular_epslon(Md: float, b1: float, d: float, fcd: float) -> tuple[float, float]:\n",
    "    '''\n",
    "    Equação que retorna epslon (x/d).\n",
    "    '''\n",
    "    a = 0.4\n",
    "    b = -1\n",
    "    c = Md / (0.68 * b1 * (d**2) * fcd)\n",
    "\n",
    "    delta = b**2 - 4 * a * c\n",
    "\n",
    "    if delta < 0:\n",
    "        raise Exception('Dimensões da viga não válidas.')\n",
    "\n",
    "    raiz1 = (-b + math.sqrt(delta)) / (2 * a)\n",
    "    raiz2 = (-b - math.sqrt(delta)) / (2 * a)\n",
    "    return raiz1, raiz2"
   ]
  },
  {
   "cell_type": "code",
   "execution_count": 102,
   "metadata": {},
   "outputs": [],
   "source": [
    "def verifica_dominio(epslon: float) -> str:\n",
    "    '''\n",
    "    Verifica o domínio com base em um epslon (x/d).\n",
    "    '''\n",
    "    if epslon < 0:\n",
    "        return '1'\n",
    "    elif 0 <= epslon <= 0.259:\n",
    "        return '2'\n",
    "    elif 0.259 < epslon <= 0.450:\n",
    "        return '3a'\n",
    "    elif 0.450 < epslon <= 0.628:\n",
    "        return '3b'\n",
    "    elif 0.628 < epslon <= 1:\n",
    "        return '4'\n",
    "    elif 1 < epslon:\n",
    "        return '5'\n",
    "    else:\n",
    "        raise Exception('Intervalo do domínio não definido.')"
   ]
  },
  {
   "cell_type": "markdown",
   "metadata": {},
   "source": [
    "## Carregamentos"
   ]
  },
  {
   "cell_type": "code",
   "execution_count": 103,
   "metadata": {},
   "outputs": [
    {
     "name": "stdout",
     "output_type": "stream",
     "text": [
      "Peso próprio = 31.68 kN/m\n",
      "Md=6.55e+06\n",
      "Vsd=1.07e+06\n"
     ]
    }
   ],
   "source": [
    "# Comprimento ponte\n",
    "L = 25\n",
    "\n",
    "# Carregamentos\n",
    "PP = max(ppV1, ppV2, ppV3, ppV4, ppV5, ppV6)\n",
    "print(f'Peso próprio = {PP:.2f} kN/m')\n",
    "\n",
    "# Momento Fletor\n",
    "Mg = (PP * L**2 / 8) * 1e3\n",
    "Mq = 2142.2e3\n",
    "Md = 1.35 * Mg + 1.5 * Mq\n",
    "print(f'Md={Md:.2e}')\n",
    "\n",
    "# Esforço cortante\n",
    "Vsg = (PP * L) * 1e3 / 2\n",
    "Vsq = 357.6e3\n",
    "Vsd = 1.35 * Vsg + 1.5 * Vsq\n",
    "print(f'Vsd={Vsd:.2e}')"
   ]
  },
  {
   "cell_type": "markdown",
   "metadata": {},
   "source": [
    "## Verificação Domínio"
   ]
  },
  {
   "cell_type": "code",
   "execution_count": 104,
   "metadata": {},
   "outputs": [
    {
     "name": "stdout",
     "output_type": "stream",
     "text": [
      "x/d=0.09949568860818117 x=0.07337807034853362 y=0.0587024562788269 Domínio 2\n"
     ]
    }
   ],
   "source": [
    "raiz1, raiz2 = calcular_epslon(Md, b1, d, fcd)\n",
    "epslon = min(raiz1, raiz2)\n",
    "x = epslon * d\n",
    "y = 0.8 * x\n",
    "\n",
    "if y > d1 and not (b1 == b2 == tw):\n",
    "    Md1 = 0.85 * fcd * (b1 - tw) * d1 * (d - 0.5 * d1)\n",
    "    Md2 = Md - Md1\n",
    "    Md = Md2\n",
    "    raiz1, raiz2 = calcular_epslon(Md2, b1, d, fcd)\n",
    "    epslon = min(raiz1, raiz2)\n",
    "    x = epslon * d\n",
    "    y = 0.8 * x\n",
    "\n",
    "if epslon > 0.45:\n",
    "    print(y(f'Necessita armadura dupla. O calculo não considera isso.'))\n",
    "\n",
    "dominio = verifica_dominio(epslon)\n",
    "print(f'x/d={epslon} x={x} y={y} Domínio {dominio}')"
   ]
  },
  {
   "cell_type": "markdown",
   "metadata": {},
   "source": [
    "## Cálculo da área de aço"
   ]
  },
  {
   "cell_type": "code",
   "execution_count": 105,
   "metadata": {},
   "outputs": [
    {
     "name": "stdout",
     "output_type": "stream",
     "text": [
      "Area de aço calculado=0.0059758890840216254; Area de aço min=0.0006468800000000001 -> 13 Ø 25mm\n"
     ]
    }
   ],
   "source": [
    "diametro_bitola = 25  # mm\n",
    "\n",
    "# Area de aço\n",
    "As_calculado = Md / (fyd * (d - 0.4 * x))\n",
    "As = As_calculado\n",
    "taxa_armadura = 0.208 / 100\n",
    "As_min = taxa_armadura * tw * (d + d_linha)\n",
    "\n",
    "if As_min > As_calculado:\n",
    "    As = As_min\n",
    "\n",
    "area_bitola = math.pi * (diametro_bitola / 1e3)**2 / 4\n",
    "num_bitolas = arredonda_pra_cima(As / area_bitola)\n",
    "print(f'Area de aço calculado={As_calculado}; Area de aço min={As_min} -> {num_bitolas} Ø {diametro_bitola}mm')\n"
   ]
  },
  {
   "cell_type": "markdown",
   "metadata": {},
   "source": [
    "## Cálculo da armadura de pele"
   ]
  },
  {
   "cell_type": "code",
   "execution_count": 106,
   "metadata": {},
   "outputs": [
    {
     "name": "stdout",
     "output_type": "stream",
     "text": [
      "Area de aço pele=0.00032 -> 5 Ø 10mm\n"
     ]
    }
   ],
   "source": [
    "diametro_bitola_pele = 10  # mm\n",
    "\n",
    "# Armadura de pele\n",
    "if d1 + d2 + d3 + d4 + d5 >= 0.6:\n",
    "    As_pele = (0.1 / 100) * tw * (d1 + d2 + d3 + d4 + d5)\n",
    "    area_bitola = math.pi * (diametro_bitola_pele / 1e3)**2 / 4\n",
    "    num_bitolas_pele = arredonda_pra_cima(As_pele / area_bitola)\n",
    "\n",
    "    print(f'Area de aço pele={As_pele} -> {num_bitolas_pele} Ø {diametro_bitola_pele}mm')\n",
    "else:\n",
    "    print(f'Não é necessário armadura de pele.')"
   ]
  },
  {
   "cell_type": "markdown",
   "metadata": {},
   "source": [
    "## Verificação esforço cortante"
   ]
  },
  {
   "cell_type": "code",
   "execution_count": 107,
   "metadata": {},
   "outputs": [
    {
     "name": "stdout",
     "output_type": "stream",
     "text": [
      "Area de aço estribos=0.0028227607831119725/m; Area de aço min=0.0004634349046107023/m -> 18 Ø 10mm\n",
      "Consumo esforço cortante = 71.30%\n"
     ]
    }
   ],
   "source": [
    "diametro_estribo = 10  # mm\n",
    "\n",
    "# Verificação do esforço cortante\n",
    "alfa_v2 = 1 - (fck / 1e6) / 250\n",
    "Vrd2 = 0.27 * alfa_v2 * fcd * tw * d\n",
    "if Vsd <= Vrd2:\n",
    "    # Não ocorre ruptura das diagonais de compressão. (Vsd<Vrd2)\n",
    "    # Resistência a compressão do concreto\n",
    "    fctd = 0.7 * (0.3 * math.pow(fck / 1e6, 2 / 3)) / 1.4\n",
    "    Vc = 0.6 * fctd * 1e6 * tw * d\n",
    "    Vsw = Vsd - Vc\n",
    "    fywd: int = None\n",
    "    if fyd <= 435e6:\n",
    "        fywd = fyd\n",
    "    else:\n",
    "        fywd = 435e6\n",
    "    alfa = math.radians(90)\n",
    "    Asw = Vsw / (0.9 * d * fywd * (math.sin(alfa) + math.cos(alfa)))\n",
    "    fctm = 0.3 * math.pow(fck / 1e6, 2 / 3)\n",
    "    fywk = fy\n",
    "    Asw_min = 0.2 * (fctm * 1e6 / fywk) * tw * math.sin(alfa)\n",
    "\n",
    "    if Asw < Asw_min:\n",
    "        Asw = Asw_min\n",
    "\n",
    "    area_estribo = num_ramos * math.pi * (diametro_estribo / 1e3)**2 / 4\n",
    "    num_estribos = arredonda_pra_cima(Asw / area_estribo)\n",
    "    # Espaçamento de estribos - item 18.3.3.2 da NBR 6118 (2014)\n",
    "    espacamento_max_estribos: float = None\n",
    "    if Vsd <= 0.67 * Vrd2:\n",
    "        if 0.6 * d >= 0.3:\n",
    "            espacamento_max_estribos = 0.3\n",
    "        else:\n",
    "            espacamento_max_estribos = 0.6 * d\n",
    "    elif Vsd > 0.67 * Vrd2:\n",
    "        if 0.3 * d >= 0.3:\n",
    "            espacamento_max_estribos = 0.2\n",
    "        else:\n",
    "            espacamento_max_estribos = 0.3 * d\n",
    "    else:\n",
    "        raise Exception(re('Ocorreu um erro no espaçamento de estribos.'))\n",
    "\n",
    "    print(f'Area de aço estribos={Asw}/m; Area de aço min={Asw_min}/m -> {num_estribos} Ø {diametro_estribo}mm')\n",
    "    print(f'Consumo esforço cortante = {Vsd/Vrd2 * 100:.2f}%')\n",
    "    # print(f'Espaçamento máximo entre estribos={espacamento_max_estribos}')\n",
    "else:\n",
    "    raise Exception(re(f'Ocorre ruptura das diagonais de compressão. Vsd/Vrd2={Vsd/Vrd2 * 100:.2f}%'))"
   ]
  },
  {
   "cell_type": "markdown",
   "metadata": {},
   "source": [
    "## Verificação dos espaçamentos"
   ]
  },
  {
   "cell_type": "markdown",
   "metadata": {},
   "source": [
    "Considera os valores minimos de espaçamento permitidos pela NBR 6118"
   ]
  },
  {
   "cell_type": "code",
   "execution_count": 108,
   "metadata": {},
   "outputs": [
    {
     "name": "stdout",
     "output_type": "stream",
     "text": [
      "1 camada com 13 Ø de 25mm\n",
      "Diferença d_real e d utilizado = 0.00%\n"
     ]
    }
   ],
   "source": [
    "espacamento_min_horizontal = max(1.2 * bitola_agregado, 0.02, diametro_bitola * 1e-3)\n",
    "# print(f'Espacamento min horizontal={espacamento_min_horizontal}')\n",
    "\n",
    "espacamento_min_vertical = max(0.5 * bitola_agregado, 0.02, diametro_bitola * 1e-3)\n",
    "# print(f'Espacamento min vertical={espacamento_min_vertical}')\n",
    "\n",
    "num_max_de_bitolas_por_camada = arredonda_pra_baixo(\n",
    "    ((b2 - d_linha * 2 - num_ramos * diametro_estribo * 2e-3) + espacamento_min_horizontal) /\n",
    "    (diametro_bitola * 1e-3 + espacamento_min_horizontal)\n",
    ")\n",
    "\n",
    "if num_bitolas <= num_max_de_bitolas_por_camada:\n",
    "    print(f'1 camada com {num_bitolas} Ø de {diametro_bitola}mm')\n",
    "    d_real = (d1 + d2 + d3 + d4 + d5 - d_linha - diametro_estribo * 1e-3 - diametro_bitola * 1e-3 / 2)\n",
    "    print(f'Diferença d_real e d utilizado = {math.fabs(d_real - d) * 100:.2f}%')\n",
    "else:\n",
    "    print(f'Precisa de mais de uma camada. 1 camada suporta apenas {num_max_de_bitolas_por_camada} Ø de {diametro_bitola}mm c/ {espacamento_min_horizontal}')\n",
    "    num_de_camadas = arredonda_pra_cima(num_bitolas / num_max_de_bitolas_por_camada)\n",
    "    print(f'Numero de camadas: {num_de_camadas}')\n",
    "    num_max_de_camadas = arredonda_pra_baixo(\n",
    "        ((d5 - diametro_estribo * 1e-3 - d_linha) + espacamento_min_vertical) /\n",
    "        (diametro_bitola * 1e-3 + espacamento_min_vertical)\n",
    "    )\n",
    "    if num_de_camadas > num_max_de_camadas:\n",
    "        raise Exception(f'Não existe seção suficiente para a quantidade de bitolas.')\n",
    "    d_real = d1 + d2 + d3 + d4\n",
    "    d_real += (\n",
    "        d5 - d_linha - diametro_estribo * 1e-3 -\n",
    "        (num_de_camadas * diametro_bitola * 1e-3 + (num_de_camadas - 1) * espacamento_min_vertical)\n",
    "    )  # Folga\n",
    "    d_real += (num_de_camadas * (diametro_bitola * 1e-3) + (num_de_camadas - 1) * espacamento_min_vertical) / 2  # Metade da area bitolas com espaçamento\n",
    "    if d_real != d:\n",
    "        print(f'd={d} d_real={d_real} {((d - d_real) / (d1 + d2 + d3 + d4 + d5)*100):.2f}% de diferença.')\n",
    "\n",
    "if (d - d_real) / (d1 + d2 + d3 + d4 + d5) > 0.1:\n",
    "    raise Exception(f'(d-d_real)/h > 10%')\n"
   ]
  }
 ],
 "metadata": {
  "kernelspec": {
   "display_name": "python39",
   "language": "python",
   "name": "python3"
  },
  "language_info": {
   "codemirror_mode": {
    "name": "ipython",
    "version": 3
   },
   "file_extension": ".py",
   "mimetype": "text/x-python",
   "name": "python",
   "nbconvert_exporter": "python",
   "pygments_lexer": "ipython3",
   "version": "3.9.18"
  }
 },
 "nbformat": 4,
 "nbformat_minor": 2
}
