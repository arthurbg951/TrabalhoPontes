{
 "cells": [
  {
   "cell_type": "code",
   "execution_count": 1,
   "metadata": {},
   "outputs": [
    {
     "name": "stdout",
     "output_type": "stream",
     "text": [
      "### ABNT NBR 7188 ###\n",
      "P: 75 kN\n",
      "p: 5 kN\n",
      "Carga no passeio: 3 kN\n",
      "#####################\n",
      "CARGAS DISTRIBUÍDAS:\n",
      "    Carga continua: 78.471\n",
      "    Carga máxima triangular: 98.971\n",
      "CARGAS CONCENTRADAS:\n",
      "    Transversina no pilar: 29.340\n",
      "    Transversina no vao: 27.650\n",
      "    Cortina: 306.406\n",
      "TREM TIPO:\n",
      "    Carga concentrada: 150\n",
      "    Externo: 23.500\n",
      "    Interno: 16.000\n",
      "FATOR DE IMPACTO=1.629\n"
     ]
    }
   ],
   "source": [
    "import revisao_carregamentos"
   ]
  }
 ],
 "metadata": {
  "kernelspec": {
   "display_name": "python39",
   "language": "python",
   "name": "python3"
  },
  "language_info": {
   "codemirror_mode": {
    "name": "ipython",
    "version": 3
   },
   "file_extension": ".py",
   "mimetype": "text/x-python",
   "name": "python",
   "nbconvert_exporter": "python",
   "pygments_lexer": "ipython3",
   "version": "3.9.18"
  },
  "orig_nbformat": 4
 },
 "nbformat": 4,
 "nbformat_minor": 2
}
