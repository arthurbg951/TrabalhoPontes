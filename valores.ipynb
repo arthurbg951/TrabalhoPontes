{
 "cells": [
  {
   "cell_type": "code",
   "execution_count": 1,
   "metadata": {},
   "outputs": [
    {
     "name": "stdout",
     "output_type": "stream",
     "text": [
      "### ABNT NBR 7188 ###\n",
      "P: 75 kN\n",
      "p: 5 kN\n",
      "Carga no passeio: 3 kN\n",
      "#####################\n",
      "CARGAS DISTRIBUÍDAS:\n",
      "Carga continua: 71.071\n",
      "Carga máxima triangular: 91.571\n",
      "CARGAS CONCENTRADAS:\n",
      "Transversina no pilar: 57.45749999999998\n",
      "Transversina no vao: 42.4625\n",
      "Cortina: 76.97624999999998\n",
      "TREM TIPO:\n",
      "Carga concentrada: 150\n",
      "Externo: 19.25\n",
      "Interno: 11.75\n",
      "FATOR DE IMPACTO=1.6285714285714286\n"
     ]
    }
   ],
   "source": [
    "import revisao_carregamentos"
   ]
  }
 ],
 "metadata": {
  "kernelspec": {
   "display_name": "python39",
   "language": "python",
   "name": "python3"
  },
  "language_info": {
   "codemirror_mode": {
    "name": "ipython",
    "version": 3
   },
   "file_extension": ".py",
   "mimetype": "text/x-python",
   "name": "python",
   "nbconvert_exporter": "python",
   "pygments_lexer": "ipython3",
   "version": "3.9.18"
  },
  "orig_nbformat": 4
 },
 "nbformat": 4,
 "nbformat_minor": 2
}
