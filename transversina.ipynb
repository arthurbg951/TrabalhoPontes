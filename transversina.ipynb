{
 "cells": [
  {
   "cell_type": "markdown",
   "metadata": {},
   "source": [
    "## Reações Ftool advindas das longarinas"
   ]
  },
  {
   "cell_type": "code",
   "execution_count": 1,
   "metadata": {},
   "outputs": [],
   "source": [
    "reacao_trem_tipo_longarina = 119.731e3\n",
    "reacao_pp_longarina = 410.9e3"
   ]
  },
  {
   "cell_type": "code",
   "execution_count": 2,
   "metadata": {},
   "outputs": [
    {
     "name": "stdout",
     "output_type": "stream",
     "text": [
      "Reação Total por longarina: 530.63kN\n"
     ]
    }
   ],
   "source": [
    "print(f'Reação Total por longarina: {(reacao_trem_tipo_longarina+reacao_pp_longarina)/1e3:.2f}kN')"
   ]
  },
  {
   "cell_type": "markdown",
   "metadata": {},
   "source": [
    "## Dados"
   ]
  },
  {
   "cell_type": "markdown",
   "metadata": {},
   "source": [
    "Concreto"
   ]
  },
  {
   "cell_type": "code",
   "execution_count": 3,
   "metadata": {},
   "outputs": [],
   "source": [
    "peso_especifico_concreto = 25 # kN/m³"
   ]
  },
  {
   "cell_type": "markdown",
   "metadata": {},
   "source": [
    "Dimensões transversina"
   ]
  },
  {
   "cell_type": "code",
   "execution_count": 4,
   "metadata": {},
   "outputs": [],
   "source": [
    "h = 1.45 # m\n",
    "b = 0.9 # m\n",
    "comprimento_transversina = 14.6 # m"
   ]
  },
  {
   "cell_type": "markdown",
   "metadata": {},
   "source": [
    "## Peso Próprio"
   ]
  },
  {
   "cell_type": "code",
   "execution_count": 5,
   "metadata": {},
   "outputs": [],
   "source": [
    "PP = b * h * peso_especifico_concreto"
   ]
  },
  {
   "cell_type": "code",
   "execution_count": 6,
   "metadata": {},
   "outputs": [
    {
     "name": "stdout",
     "output_type": "stream",
     "text": [
      "Peso Próprio Transversina: 32.625kN/m\n"
     ]
    }
   ],
   "source": [
    "print(f'Peso Próprio Transversina: {PP}kN/m')"
   ]
  },
  {
   "cell_type": "markdown",
   "metadata": {},
   "source": [
    "## Momento"
   ]
  },
  {
   "cell_type": "code",
   "execution_count": 7,
   "metadata": {},
   "outputs": [],
   "source": [
    "MPP = PP * comprimento_transversina**2 / 8 # Nm\n",
    "MR = 5815.4e3 # Nm\n",
    "Md = (MR + MPP) * 1.4 # Nm"
   ]
  },
  {
   "cell_type": "code",
   "execution_count": 8,
   "metadata": {},
   "outputs": [
    {
     "data": {
      "text/plain": [
       "(5816269.293125, 8142777.010375)"
      ]
     },
     "execution_count": 8,
     "metadata": {},
     "output_type": "execute_result"
    }
   ],
   "source": [
    "Md / 1.4, Md"
   ]
  },
  {
   "cell_type": "markdown",
   "metadata": {},
   "source": [
    "## Cortante Máximo"
   ]
  },
  {
   "cell_type": "code",
   "execution_count": 9,
   "metadata": {},
   "outputs": [],
   "source": [
    "VPP = (PP * comprimento_transversina) * 1e3 / 2 # Nm\n",
    "VR = 1594e3 # N\n",
    "Vsd = (VPP + VR) * 1.4 # N"
   ]
  },
  {
   "cell_type": "code",
   "execution_count": 10,
   "metadata": {},
   "outputs": [
    {
     "data": {
      "text/plain": [
       "(1832162.5, 2565027.5)"
      ]
     },
     "execution_count": 10,
     "metadata": {},
     "output_type": "execute_result"
    }
   ],
   "source": [
    "Vsd / 1.4, Vsd"
   ]
  },
  {
   "cell_type": "markdown",
   "metadata": {},
   "source": [
    "## Dimensionamento"
   ]
  },
  {
   "cell_type": "code",
   "execution_count": 11,
   "metadata": {},
   "outputs": [],
   "source": [
    "from dimensionamento2 import main as dimensiona_viga\n",
    "from Secoes import GirderSection"
   ]
  },
  {
   "cell_type": "code",
   "execution_count": 12,
   "metadata": {},
   "outputs": [],
   "source": [
    "fck = 30e6 # Pa\n",
    "fy = 500e6 # Pa\n",
    "cobrimento = 0.04 # m"
   ]
  },
  {
   "cell_type": "code",
   "execution_count": 13,
   "metadata": {},
   "outputs": [],
   "source": [
    "diametro_bitola = 25\n",
    "diametro_bitola_pele = 10\n",
    "diametro_estribo = 10\n",
    "bitola_agregado = (3 / 4) * 2.54e-2\n",
    "num_ramos = 2"
   ]
  },
  {
   "cell_type": "code",
   "execution_count": 14,
   "metadata": {},
   "outputs": [
    {
     "name": "stdout",
     "output_type": "stream",
     "text": [
      "\u001b[34mPRIMEIRA ITERAÇÃO: Considerando d = h - cobrimento\u001b[0m\n",
      "x/d=0.3658517119213417 x=0.5158509138090918 y=0.41268073104727343 Domínio 3a\n",
      "As_min=19.57cm² As_calculado=155.60cm² Area de aço adotado=155.60cm²  -> 32 Ø 25.0mm\n",
      "Area de aço pele=13.05cm² -> 17 Ø 10.0mm\n",
      "Area de aço estribos=26.50cm²/m -> 17x2 Ø 10.0mm/m\n",
      "Consumo esforço cortante = 39.70%\n",
      "Espaçamento estribos=6.25cm\n",
      "Precisa de mais de uma camada. 1 camada suporta apenas 16 Ø de 25mm c/ 2.5cm\n",
      "Numero de camadas: 3. Descrição:\n",
      "    1 possui 16 Ø c/ 2.5cm\n",
      "    2 possui 16 Ø c/ 2.5cm\n",
      "    3 possui 0 Ø c/ pelo menos 2.5cm\n",
      "d=1.41 d_real=1.3375 5.00% de diferença.\n",
      "\n",
      "\u001b[34mEXECUTANDO 1 ITERAÇÃO DA CORREÇÃO DO CENTROIDE DAS ARMADURAS.\u001b[0m\n",
      "x/d=0.4164662209790318 x=0.557023570559455 y=0.445618856447564 Domínio 3a\n",
      "As_min=18.60cm² As_calculado=168.01cm² Area de aço adotado=168.01cm²  -> 35 Ø 25.0mm\n",
      "Area de aço pele=13.05cm² -> 17 Ø 10.0mm\n",
      "Area de aço estribos=29.02cm²/m -> 19x2 Ø 10.0mm/m\n",
      "Consumo esforço cortante = 41.85%\n",
      "Espaçamento estribos=5.56cm\n",
      "Precisa de mais de uma camada. 1 camada suporta apenas 16 Ø de 25mm c/ 2.5cm\n",
      "Numero de camadas: 3. Descrição:\n",
      "    1 possui 16 Ø c/ 2.5cm\n",
      "    2 possui 16 Ø c/ 2.5cm\n",
      "    3 possui 3 Ø c/ pelo menos 2.5cm\n",
      "d=1.3375 d_real=1.3375 0.00% de diferença.\n",
      "\n"
     ]
    }
   ],
   "source": [
    "dimensiona_viga(\n",
    "        GirderSection(\n",
    "            b1=b,\n",
    "            b2=b,\n",
    "            tw=b,\n",
    "\n",
    "            d1=0,\n",
    "            d2=0,\n",
    "            d3=0,\n",
    "            d4=0,\n",
    "            d5=h\n",
    "        ),\n",
    "        Md,\n",
    "        Vsd,\n",
    "        fck,\n",
    "        fy,\n",
    "        cobrimento,\n",
    "        diametro_bitola * 1e-3,\n",
    "        diametro_bitola_pele * 1e-3,\n",
    "        diametro_estribo * 1e-3,\n",
    "        bitola_agregado,\n",
    "        num_ramos\n",
    "    )"
   ]
  }
 ],
 "metadata": {
  "kernelspec": {
   "display_name": "python39",
   "language": "python",
   "name": "python3"
  },
  "language_info": {
   "codemirror_mode": {
    "name": "ipython",
    "version": 3
   },
   "file_extension": ".py",
   "mimetype": "text/x-python",
   "name": "python",
   "nbconvert_exporter": "python",
   "pygments_lexer": "ipython3",
   "version": "3.9.18"
  }
 },
 "nbformat": 4,
 "nbformat_minor": 2
}
